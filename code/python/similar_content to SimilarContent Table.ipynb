{
 "cells": [
  {
   "cell_type": "code",
   "execution_count": 1,
   "id": "735acc6d",
   "metadata": {},
   "outputs": [],
   "source": [
    "import pandas as pd\n",
    "import numpy as np\n",
    "import pymysql"
   ]
  },
  {
   "cell_type": "code",
   "execution_count": 2,
   "id": "3221e660",
   "metadata": {},
   "outputs": [
    {
     "data": {
      "text/plain": [
       "True"
      ]
     },
     "execution_count": 2,
     "metadata": {},
     "output_type": "execute_result"
    }
   ],
   "source": [
    "conn=pymysql.connect(host='localhost',port=int(3309),user='root',passwd='',db='cprs')\n",
    "conn!=False"
   ]
  },
  {
   "cell_type": "code",
   "execution_count": 14,
   "id": "660614fc",
   "metadata": {},
   "outputs": [
    {
     "data": {
      "text/html": [
       "<div>\n",
       "<style scoped>\n",
       "    .dataframe tbody tr th:only-of-type {\n",
       "        vertical-align: middle;\n",
       "    }\n",
       "\n",
       "    .dataframe tbody tr th {\n",
       "        vertical-align: top;\n",
       "    }\n",
       "\n",
       "    .dataframe thead th {\n",
       "        text-align: right;\n",
       "    }\n",
       "</style>\n",
       "<table border=\"1\" class=\"dataframe\">\n",
       "  <thead>\n",
       "    <tr style=\"text-align: right;\">\n",
       "      <th></th>\n",
       "      <th>index</th>\n",
       "      <th>showID</th>\n",
       "      <th>similarContentID</th>\n",
       "    </tr>\n",
       "  </thead>\n",
       "  <tbody>\n",
       "    <tr>\n",
       "      <th>0</th>\n",
       "      <td>0</td>\n",
       "      <td>0</td>\n",
       "      <td>20827</td>\n",
       "    </tr>\n",
       "    <tr>\n",
       "      <th>1</th>\n",
       "      <td>1</td>\n",
       "      <td>0</td>\n",
       "      <td>6359</td>\n",
       "    </tr>\n",
       "    <tr>\n",
       "      <th>2</th>\n",
       "      <td>2</td>\n",
       "      <td>0</td>\n",
       "      <td>1087</td>\n",
       "    </tr>\n",
       "    <tr>\n",
       "      <th>3</th>\n",
       "      <td>3</td>\n",
       "      <td>0</td>\n",
       "      <td>2148</td>\n",
       "    </tr>\n",
       "    <tr>\n",
       "      <th>4</th>\n",
       "      <td>4</td>\n",
       "      <td>0</td>\n",
       "      <td>1011</td>\n",
       "    </tr>\n",
       "    <tr>\n",
       "      <th>...</th>\n",
       "      <td>...</td>\n",
       "      <td>...</td>\n",
       "      <td>...</td>\n",
       "    </tr>\n",
       "    <tr>\n",
       "      <th>484645</th>\n",
       "      <td>25</td>\n",
       "      <td>23532</td>\n",
       "      <td>8849</td>\n",
       "    </tr>\n",
       "    <tr>\n",
       "      <th>484646</th>\n",
       "      <td>26</td>\n",
       "      <td>23532</td>\n",
       "      <td>19923</td>\n",
       "    </tr>\n",
       "    <tr>\n",
       "      <th>484647</th>\n",
       "      <td>27</td>\n",
       "      <td>23532</td>\n",
       "      <td>152</td>\n",
       "    </tr>\n",
       "    <tr>\n",
       "      <th>484648</th>\n",
       "      <td>28</td>\n",
       "      <td>23532</td>\n",
       "      <td>7624</td>\n",
       "    </tr>\n",
       "    <tr>\n",
       "      <th>484649</th>\n",
       "      <td>29</td>\n",
       "      <td>23532</td>\n",
       "      <td>8319</td>\n",
       "    </tr>\n",
       "  </tbody>\n",
       "</table>\n",
       "<p>484650 rows × 3 columns</p>\n",
       "</div>"
      ],
      "text/plain": [
       "        index  showID  similarContentID\n",
       "0           0       0             20827\n",
       "1           1       0              6359\n",
       "2           2       0              1087\n",
       "3           3       0              2148\n",
       "4           4       0              1011\n",
       "...       ...     ...               ...\n",
       "484645     25   23532              8849\n",
       "484646     26   23532             19923\n",
       "484647     27   23532               152\n",
       "484648     28   23532              7624\n",
       "484649     29   23532              8319\n",
       "\n",
       "[484650 rows x 3 columns]"
      ]
     },
     "execution_count": 14,
     "metadata": {},
     "output_type": "execute_result"
    }
   ],
   "source": [
    "sc=pd.read_sql(f\"SELECT * FROM similar_content\", conn)\n",
    "# sc.index=sc['index']\n",
    "# sc.drop([\"index\"], axis=1, inplace=True)\n",
    "sc"
   ]
  },
  {
   "cell_type": "code",
   "execution_count": 15,
   "id": "0e5cb977",
   "metadata": {},
   "outputs": [
    {
     "data": {
      "text/plain": [
       "index                   0\n",
       "showID                  0\n",
       "similarContentID    20827\n",
       "Name: 0, dtype: int64"
      ]
     },
     "execution_count": 15,
     "metadata": {},
     "output_type": "execute_result"
    }
   ],
   "source": [
    "sc.loc[0]"
   ]
  },
  {
   "cell_type": "code",
   "execution_count": 22,
   "id": "3f0c8799",
   "metadata": {},
   "outputs": [
    {
     "data": {
      "text/plain": [
       "index               False\n",
       "showID              False\n",
       "similarContentID    False\n",
       "dtype: bool"
      ]
     },
     "execution_count": 22,
     "metadata": {},
     "output_type": "execute_result"
    }
   ],
   "source": []
  },
  {
   "cell_type": "code",
   "execution_count": 23,
   "id": "498ac8b0",
   "metadata": {},
   "outputs": [
    {
     "name": "stdout",
     "output_type": "stream",
     "text": [
      "Wall time: 1min 15s\n"
     ]
    }
   ],
   "source": [
    "%%time\n",
    "try:\n",
    "    with conn.cursor() as cur:\n",
    "        for i in sc.index:\n",
    "            row=sc.loc[i]\n",
    "            s1, s2=row[\"showID\"], row[\"similarContentID\"]\n",
    "            cur.execute(f\"INSERT INTO SimilarContent VALUES ({s1}, {s2});\")\n",
    "#             show=shows.loc[i]\n",
    "#             plat=[str(platforms.loc[platform].PlatformID) for platform in show.platforms.split(\", \")]\n",
    "#             plat=\", \".join(plat)            \n",
    "            \n",
    "#             cur.execute(f\"INSERT INTO Shows VALUES ({show.title_index}, '{show.title}', '{show.genres}', \"+\n",
    "#                         f\"'{show.content_type}', '{show.directors}', '{show.actors}', \"+\n",
    "#                         f\"'{show.content_rating}', '{show.release_year}', '{show.summary}', \"+\n",
    "#                         f\"{languages.loc[show.language].languageID}, '{plat}', \"+\n",
    "#                         f\"'{re.escape(show.poster_url)}', {show.average_rating_from_imdb}, {show.count_of_ratings_imdb});\")\n",
    "        conn.commit()\n",
    "except Exception as error:\n",
    "    print(error)"
   ]
  },
  {
   "cell_type": "code",
   "execution_count": 24,
   "id": "01fb0cf4",
   "metadata": {},
   "outputs": [
    {
     "data": {
      "text/html": [
       "<div>\n",
       "<style scoped>\n",
       "    .dataframe tbody tr th:only-of-type {\n",
       "        vertical-align: middle;\n",
       "    }\n",
       "\n",
       "    .dataframe tbody tr th {\n",
       "        vertical-align: top;\n",
       "    }\n",
       "\n",
       "    .dataframe thead th {\n",
       "        text-align: right;\n",
       "    }\n",
       "</style>\n",
       "<table border=\"1\" class=\"dataframe\">\n",
       "  <thead>\n",
       "    <tr style=\"text-align: right;\">\n",
       "      <th></th>\n",
       "      <th>contentID</th>\n",
       "      <th>similarContentID</th>\n",
       "    </tr>\n",
       "  </thead>\n",
       "  <tbody>\n",
       "    <tr>\n",
       "      <th>0</th>\n",
       "      <td>0</td>\n",
       "      <td>358</td>\n",
       "    </tr>\n",
       "    <tr>\n",
       "      <th>1</th>\n",
       "      <td>0</td>\n",
       "      <td>850</td>\n",
       "    </tr>\n",
       "    <tr>\n",
       "      <th>2</th>\n",
       "      <td>0</td>\n",
       "      <td>1011</td>\n",
       "    </tr>\n",
       "    <tr>\n",
       "      <th>3</th>\n",
       "      <td>0</td>\n",
       "      <td>1087</td>\n",
       "    </tr>\n",
       "    <tr>\n",
       "      <th>4</th>\n",
       "      <td>0</td>\n",
       "      <td>2148</td>\n",
       "    </tr>\n",
       "    <tr>\n",
       "      <th>...</th>\n",
       "      <td>...</td>\n",
       "      <td>...</td>\n",
       "    </tr>\n",
       "    <tr>\n",
       "      <th>484645</th>\n",
       "      <td>23532</td>\n",
       "      <td>22921</td>\n",
       "    </tr>\n",
       "    <tr>\n",
       "      <th>484646</th>\n",
       "      <td>23532</td>\n",
       "      <td>23013</td>\n",
       "    </tr>\n",
       "    <tr>\n",
       "      <th>484647</th>\n",
       "      <td>23532</td>\n",
       "      <td>23225</td>\n",
       "    </tr>\n",
       "    <tr>\n",
       "      <th>484648</th>\n",
       "      <td>23532</td>\n",
       "      <td>23350</td>\n",
       "    </tr>\n",
       "    <tr>\n",
       "      <th>484649</th>\n",
       "      <td>23532</td>\n",
       "      <td>23408</td>\n",
       "    </tr>\n",
       "  </tbody>\n",
       "</table>\n",
       "<p>484650 rows × 2 columns</p>\n",
       "</div>"
      ],
      "text/plain": [
       "        contentID  similarContentID\n",
       "0               0               358\n",
       "1               0               850\n",
       "2               0              1011\n",
       "3               0              1087\n",
       "4               0              2148\n",
       "...           ...               ...\n",
       "484645      23532             22921\n",
       "484646      23532             23013\n",
       "484647      23532             23225\n",
       "484648      23532             23350\n",
       "484649      23532             23408\n",
       "\n",
       "[484650 rows x 2 columns]"
      ]
     },
     "execution_count": 24,
     "metadata": {},
     "output_type": "execute_result"
    }
   ],
   "source": [
    "sc2=pd.read_sql(f\"SELECT * FROM similarcontent\", conn)\n",
    "# sc.index=sc['index']\n",
    "# sc.drop([\"index\"], axis=1, inplace=True)\n",
    "sc2"
   ]
  },
  {
   "cell_type": "code",
   "execution_count": null,
   "id": "84c1d641",
   "metadata": {},
   "outputs": [],
   "source": []
  }
 ],
 "metadata": {
  "kernelspec": {
   "display_name": "Python 3 (ipykernel)",
   "language": "python",
   "name": "python3"
  },
  "language_info": {
   "codemirror_mode": {
    "name": "ipython",
    "version": 3
   },
   "file_extension": ".py",
   "mimetype": "text/x-python",
   "name": "python",
   "nbconvert_exporter": "python",
   "pygments_lexer": "ipython3",
   "version": "3.9.7"
  }
 },
 "nbformat": 4,
 "nbformat_minor": 5
}
